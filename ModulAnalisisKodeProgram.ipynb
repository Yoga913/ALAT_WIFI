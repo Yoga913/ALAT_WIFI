{
 "cells": [
  {
   "cell_type": "markdown",
   "metadata": {},
   "source": [
    "# Struktur Projeck:"
   ]
  },
  {
   "cell_type": "code",
   "execution_count": null,
   "metadata": {},
   "outputs": [],
   "source": [
    "ALAT_WIFI/\n",
    "├── static/\n",
    "│   ├── css/\n",
    "│   │   └── styles.css\n",
    "│   └── js/\n",
    "│       └── script.js\n",
    "├── templates/\n",
    "│   └── index.html\n",
    "├── requirements.txt\n",
    "├── app.py\n",
    "└── wifi_tool.py"
   ]
  },
  {
   "cell_type": "markdown",
   "metadata": {},
   "source": [
    "# Implementasi Kode dan analisa yang di gunakan untuk membuat program "
   ]
  },
  {
   "cell_type": "markdown",
   "metadata": {},
   "source": [
    "- `app.py`: Skrip utama untuk menjalankan aplikasi Flask. "
   ]
  },
  {
   "cell_type": "markdown",
   "metadata": {},
   "source": [
    "Analisa code : \n",
    "\n",
    "1. Struktur Data:\n",
    "Struktur data utama yang digunakan dalam kode ini adalah dictionary, khususnya untuk menangani permintaan dan respons JSON.\n",
    "Contohnya, 'request.json' adalah dictionary yang berisi data yang dikirim dalam permintaan POST, dan jsonify(result=result) mengembalikan dictionary sebagai respons JSON\n",
    "\n",
    "2. Array Dimensi 1 & 2:\n",
    "Tidak digunakan langsung dalam kode ini. Namun, jika fungsi-fungsi Alat_wifi mengembalikan list atau array, mereka akan ditangani sebagai bagian dari result.\n",
    "\n",
    "3. Array Dimensi Banyak: \n",
    "Tidak digunakan langsung dalam kode ini. Konsep ini akan relevan jika fungsi-fungsi Alat_wifi mengembalikan array multi-dimensi. \n",
    " \n",
    "Kode ini terutama berfokus pada penanganan permintaan HTTP dan mengeksekusi fungsi-fungsi spesifik dari modul Alat_wifi berdasarkan aksi dalam permintaan. Kode ini menggunakan struktur data seperti dictionary untuk menangani data JSON dan Flask untuk routing dan penanganan permintaan. Konsep seperti tipe data dan struktur data digunakan secara implisit melalui dictionary dan manipulasi string dalam kode ini.\n",
    "\n",
    "code :"
   ]
  },
  {
   "cell_type": "code",
   "execution_count": null,
   "metadata": {},
   "outputs": [],
   "source": [
    "# app.py \n",
    "from flask import Flask, render_template, request, jsonify \n",
    "import Alat_wifi \n",
    "\n",
    "app = Flask(__name__) \n",
    "\n",
    "@app.route('/') \n",
    "def index(): \n",
    "    return render_template('index.html') \n",
    "\n",
    "@app.route('/execute', methods=['POST']) \n",
    "def execute(): \n",
    "    action = request.json['action'] \n",
    "    if action == \"periksa_host_windows\": \n",
    "        result = Alat_wifi.periksa_host_windows() \n",
    "    elif action == \"list_ssids\": \n",
    "        result = Alat_wifi.cmd_daftar_ssid_tersedia() \n",
    "    elif action == \"list_profiles\": \n",
    "        result = Alat_wifi.cmd_daftar_profil() \n",
    "    elif action == \"list_blocked_aps\": \n",
    "        result = Alat_wifi.cmd_daftar_ap_terblokir() \n",
    "    elif action == \"show_interface\": \n",
    "        result = Alat_wifi.cmd_tampilkan_antarmuka_saat_ini() \n",
    "    elif action == \"full_report\": \n",
    "        result = Alat_wifi.cmd_buat_laporan_lengkap() \n",
    "    elif action == \"show_cleartext\": \n",
    "        ap_name = request.json.get('ap_name') \n",
    "        result = Alat_wifi.cmd_tampilkan_password_cleartext(ap_name) \n",
    "    elif action == \"dump_profiles\": \n",
    "        result = Alat_wifi.cmd_dump_profil_terenkripsi() \n",
    "    else: \n",
    "        result = '[!] Pilihan Tidak Valid' \n",
    "    return jsonify(result=result) \n",
    "\n",
    "if __name__ == \"__main__\": \n",
    "    app.run(debug=True) \n"
   ]
  },
  {
   "cell_type": "markdown",
   "metadata": {},
   "source": [
    "- `Alat_wifi.py`: Skrip yang berisi fungsi-fungsi untuk menjalankan perintah CMD terkait Wi-Fi. "
   ]
  },
  {
   "cell_type": "markdown",
   "metadata": {},
   "source": [
    "Analisa code :\n",
    "\n",
    "1. Tipe Data: Variabel-variabel yang digunakan seperti string (misalnya nama_ap), dan hasil yang dikembalikan oleh fungsi-fungsi adalah string. \n",
    "\n",
    "Kode ini fokus pada penggunaan fungsi-fungsi yang berinteraksi dengan sistem operasi Windows melalui perintah-perintah shell menggunakan modul subprocess. Implementasi ini lebih terkait dengan pemanggilan perintah eksternal untuk mengelola dan memeriksa konfigurasi jaringan WiFi pada sistem operasi Windows.\n",
    "\n",
    "Code :"
   ]
  },
  {
   "cell_type": "code",
   "execution_count": null,
   "metadata": {},
   "outputs": [],
   "source": [
    "import os \n",
    "import subprocess \n",
    "from subprocess import check_output \n",
    "\n",
    "def periksa_host_windows(): \n",
    "    if os.name != \"nt\": \n",
    "        return '[!] Silakan Jalankan Aplikasi Di Mesin Windows' \n",
    "    return '[+] Semua bagus....' \n",
    "\n",
    "def cmd_daftar_ssid_tersedia(): \n",
    "    return check_output(\"netsh wlan show networks\", shell=True).decode('utf-8') \n",
    "\n",
    "def cmd_daftar_profil(): \n",
    "    return check_output(\"netsh wlan show profiles\", shell=True).decode('utf-8') \n",
    "\n",
    "def cmd_daftar_ap_terblokir(): \n",
    "    return check_output(\"netsh wlan show filters\", shell=True).decode('utf-8') \n",
    "\n",
    "def cmd_tampilkan_antarmuka_saat_ini(): \n",
    "    return check_output(\"netsh wlan show interfaces\", shell=True).decode('utf-8') \n",
    "\n",
    "def cmd_buat_laporan_lengkap(): \n",
    "    return check_output(\"netsh wlan show all\", shell=True).decode('utf-8') \n",
    "\n",
    "def cmd_tampilkan_password_cleartext(nama_ap): \n",
    "    if nama_ap: \n",
    "        return check_output(f\"netsh wlan show profiles name=\\\"{nama_ap}\\\" key=clear\", shell=True).decode('utf-8') \n",
    "    return \"[!] Masukkan nama titik akses nirkabel yang benar.\" \n",
    "\n",
    "def cmd_buka_profil(): \n",
    "    return check_output(\"notepad profiles.txt\", shell=True) \n",
    "\n",
    "def cmd_dump_profil_terenkripsi(): \n",
    "    return check_output(\"netsh wlan export profile folder=.\", shell=True).decode('utf-8') \n"
   ]
  },
  {
   "cell_type": "markdown",
   "metadata": {},
   "source": [
    "# implementasi perintah netsh wlan yang di gunakan:\n",
    "\n",
    "beberapa perintah yang digunakan beserta fungsinya:\n",
    "\n",
    "1. **Menampilkan Daftar SSID**: \n",
    "   - Perintah: `netsh wlan show networks` \n",
    "   - Fungsi: Menampilkan daftar jaringan Wi-Fi (SSID) yang tersedia di sekitar perangkat. Berguna untuk mengetahui jaringan Wi-Fi yang dapat diakses dari lokasi saat ini. \n",
    "  \n",
    "2. **Menampilkan Profil yang Tersimpan**: \n",
    "   - Perintah: `netsh wlan show profiles` \n",
    "   - Fungsi: Menampilkan daftar profil Wi-Fi yang telah disimpan di perangkat. Setiap kali Anda terhubung ke jaringan Wi-Fi baru, Windows akan menyimpan profil tersebut, termasuk informasi seperti nama jaringan (SSID) dan kata sandi. \n",
    "  \n",
    "3. **Menampilkan Filter Wi-Fi**: \n",
    "   - Perintah: `netsh wlan show filters` \n",
    "   - Fungsi: Menampilkan filter yang telah diterapkan pada koneksi Wi-Fi, seperti daftar jaringan yang diperbolehkan atau diblokir. \n",
    "  \n",
    "4. **Menampilkan Informasi Antarmuka Wi-Fi Saat Ini**: \n",
    "   - Perintah: `netsh wlan show interfaces` \n",
    "   - Fungsi: Menampilkan informasi detail mengenai antarmuka Wi-Fi yang sedang aktif, seperti nama antarmuka, status koneksi, kecepatan, dan kualitas sinyal. Berguna untuk memantau kondisi koneksi Wi-Fi dan melakukan diagnosa jika terjadi masalah. \n",
    "  \n",
    "5. **Menampilkan Semua Informasi Wi-Fi**: \n",
    "   - Perintah: `netsh wlan show all` \n",
    "   - Fungsi: Menampilkan semua informasi terkait Wi-Fi, termasuk daftar jaringan, profil yang disimpan, dan informasi antarmuka. Perintah ini memberikan gambaran menyeluruh tentang status Wi-Fi di perangkat. \n",
    "  \n",
    "6. **Menampilkan Detail Profil Tertentu**: \n",
    "   - Perintah: `netsh wlan show profiles name=\"{nama_ap}\" key=clear` \n",
    "   - Fungsi: Menampilkan detail dari profil Wi-Fi tertentu, termasuk kata sandi dalam bentuk teks yang jelas (clear text). Sangat berguna ketika Anda perlu mengetahui atau memverifikasi informasi login jaringan Wi-Fi tertentu. \n",
    "  \n",
    "7. **Mengekspor Profil Wi-Fi**: \n",
    "   - Perintah: `netsh wlan export profile folder=.\"\"` \n",
    "   - Fungsi: Mengekspor profil Wi-Fi yang tersimpan ke folder yang ditentukan dalam bentuk file XML. File ini dapat digunakan untuk mengimpor profil tersebut ke perangkat lain atau sebagai backup. \n",
    "  \n",
    "Dengan memanfaatkan perintah-perintah ini, pengguna dapat mengelola dan memantau koneksi Wi-Fi mereka secara efisien melalui CMD. Hal ini sangat membantu terutama bagi pengguna yang lebih nyaman bekerja dengan perintah teks atau saat melakukan troubleshooting masalah koneksi jaringan."
   ]
  },
  {
   "cell_type": "markdown",
   "metadata": {},
   "source": [
    "***analisis tentang konsep-konsep struktur data dan array yang digunakan dalam perintah `netsh wlan`**:"
   ]
  },
  {
   "cell_type": "markdown",
   "metadata": {},
   "source": [
    "1. Menggunakan Konsep Struktur Data dan Array Apa yang Dipakai? "
   ]
  },
  {
   "cell_type": "markdown",
   "metadata": {},
   "source": [
    "- **Array**: Perintah-perintah `netsh wlan` kemungkinan besar menggunakan array untuk menyimpan daftar jaringan, profil, dan informasi lainnya. \n",
    "  - Contoh: Menyimpan daftar jaringan Wi-Fi yang ditemukan (`networks[]`) atau daftar profil yang tersimpan (`profiles[]`).\n",
    "  \n",
    "- **Struct**: Digunakan untuk menyimpan detail setiap jaringan atau profil, seperti SSID, tipe radio, jenis keamanan, dan kekuatan sinyal.\n",
    "\n",
    "  - Contoh: Struktur data untuk menyimpan informasi jaringan bisa berupa:"
   ]
  },
  {
   "cell_type": "code",
   "execution_count": null,
   "metadata": {},
   "outputs": [],
   "source": [
    "struct WifiNetwork { \n",
    "        char SSID[32]; \n",
    "        char RadioType[16]; \n",
    "        char SecurityType[16]; \n",
    "        int SignalStrength; \n",
    "    }; \n",
    "    struct WifiNetwork networks[MAX_NETWORKS]; "
   ]
  },
  {
   "cell_type": "markdown",
   "metadata": {},
   "source": [
    "2. Konsep Bilangan Apa yang Dipakai? "
   ]
  },
  {
   "cell_type": "markdown",
   "metadata": {},
   "source": [
    "- **Sistem Bilangan Desimal**: Digunakan untuk menampilkan informasi numerik seperti kekuatan sinyal (dalam desibel), jumlah jaringan yang ditemukan, kecepatan transmisi, dan alamat MAC. \n",
    "- **Sistem Bilangan Hexadesimal**: Digunakan dalam representasi alamat MAC. \n",
    "  \n",
    "### 3. Konsep Array Dimensi Banyak Apa yang Dipakai? \n",
    "- **Array Dimensi Dua**: Digunakan untuk menyimpan data kompleks seperti daftar jaringan dan atributnya. Misalnya, `networks` sebagai array dari struct `WifiNetwork`. \n",
    "  - Contoh: "
   ]
  },
  {
   "cell_type": "code",
   "execution_count": null,
   "metadata": {},
   "outputs": [],
   "source": [
    " struct WifiNetwork networks[MAX_NETWORKS]; "
   ]
  },
  {
   "cell_type": "markdown",
   "metadata": {},
   "source": [
    "4. Konsep Single Linked List Apa yang Dipakai? "
   ]
  },
  {
   "cell_type": "markdown",
   "metadata": {},
   "source": [
    "- **Single Linked List**: Tidak ada penggunaan eksplisit dari single linked list dalam perintah `netsh wlan`, tetapi mungkin digunakan di backend untuk mengelola daftar dinamis dari elemen-elemen seperti profil jaringan. "
   ]
  },
  {
   "cell_type": "markdown",
   "metadata": {},
   "source": [
    "10. Graph dan Matriks Penyajian Apa yang Dipakai? "
   ]
  },
  {
   "cell_type": "markdown",
   "metadata": {},
   "source": [
    "- **Graph dan Matriks Penyajian**: Perintah `netsh wlan` tidak secara eksplisit menggunakan graph atau matriks dalam penyajiannya, tetapi hubungan antara jaringan dan profil dapat dimodelkan sebagai graph. Misalnya, jaringan yang berbeda sebagai node dan profil yang menghubungkan mereka sebagai edge. "
   ]
  },
  {
   "cell_type": "markdown",
   "metadata": {},
   "source": [
    "# Rangkuman\n",
    "\n",
    "Perintah `netsh wlan show networks`, `netsh wlan show profiles`, `netsh wlan show filters`, `netsh wlan show interfaces`, `netsh wlan show all`, `netsh wlan show profiles name=\"{nama_ap}\" key=clear`, dan `netsh wlan export profile folder=.` menggunakan konsep array dan struct untuk mengelola dan menampilkan data jaringan. Sistem bilangan desimal dan hexadesimal digunakan untuk menampilkan informasi numerik. Konsep-konsep lain seperti linked list, stack, queue, pohon, dan graph tidak secara eksplisit diterapkan dalam konteks perintah-perintah ini. "
   ]
  },
  {
   "cell_type": "markdown",
   "metadata": {},
   "source": [
    "- `templates/index.html`: File HTML utama untuk antarmuka web. "
   ]
  },
  {
   "cell_type": "markdown",
   "metadata": {},
   "source": [
    "Analisa code:\n",
    "\n",
    "bertanggung jawab untuk menampilkan antarmuka pengguna (user interface) menggunakan elemen-elemen seperti tombol '<button>', input teks '<input>', dan elemen-elemen lainnya untuk mengorganisir dan memformat konten. Implementasi logika atau manipulasi data berada di lapisan backend (misalnya, dengan Flask di server) atau mungkin dengan JavaScript yang diacu di dalam kode HTML seperti 'script.js'."
   ]
  },
  {
   "cell_type": "code",
   "execution_count": null,
   "metadata": {
    "vscode": {
     "languageId": "html"
    }
   },
   "outputs": [],
   "source": [
    "<!DOCTYPE html> \n",
    "<html lang=\"id\"> \n",
    "<head> \n",
    "    <meta charset=\"UTF-8\"> \n",
    "    <meta name=\"viewport\" content=\"width=device-width, initial-scale=1.0\"> \n",
    "    <title>Alat Wifi</title> \n",
    "     <!--Bootstrap CSS--> \n",
    "    <link href=\"https://stackpath.bootstrapcdn.com/bootstrap/4.5.2/css/bootstrap.min.css\" rel=\"stylesheet\"> \n",
    "    <link rel=\"stylesheet\" href=\"{{ url_for('static', filename='css/styles.css') }}\"> \n",
    "</head> \n",
    "<body> \n",
    "    <div class=\"container mt-5\"> \n",
    "        <h1 class=\"text-center\">Alat Wifi</h1> \n",
    "        <div class=\"card mt-4\"> \n",
    "            <div class=\"card-body\"> \n",
    "                <div class=\"row\"> \n",
    "                    <div class=\"col-md-6\"> \n",
    "                        <button class=\"btn btn-primary btn-block mb-2\" onclick=\"executeAction('check_host_windows')\">Periksa Host Windows</button> \n",
    "                        <button class=\"btn btn-primary btn-block mb-2\" onclick=\"executeAction('list_ssids')\">Daftar SSID Tersedia</button> \n",
    "                        <button class=\"btn btn-primary btn-block mb-2\" onclick=\"executeAction('list_profiles')\">Daftar Profil</button> \n",
    "                        <button class=\"btn btn-primary btn-block mb-2\" onclick=\"executeAction('list_blocked_aps')\">Daftar AP Terblokir</button> \n",
    "                    </div> \n",
    "                    <div class=\"col-md-6\"> \n",
    "                        <button class=\"btn btn-primary btn-block mb-2\" onclick=\"executeAction('show_interface')\">Tampilkan Antarmuka Saat Ini</button> \n",
    "                        <button class=\"btn btn-primary btn-block mb-2\" onclick=\"executeAction('full_report')\">Buat Laporan Lengkap</button> \n",
    "                        <input type=\"text\" id=\"ap_name\" class=\"form-control mb-2\" placeholder=\"Masukkan Nama AksesPoin\"> \n",
    "                        <button class=\"btn btn-primary btn-block mb-2\" onclick=\"executeAction('show_cleartext')\">Tampilkan Password Cleartext</button> \n",
    "                        <button class=\"btn btn-primary btn-block mb-2\" onclick=\"executeAction('dump_profiles')\">Dump Profil Enkripsi</button> \n",
    "                    </div> \n",
    "                </div> \n",
    "            </div> \n",
    "        </div> \n",
    "        <pre id=\"output\" class=\"mt-4 p-3 border rounded\"></pre> \n",
    "    </div> \n",
    "    <!-- Bootstrap JS dan dependensi --> \n",
    "    <script src=\"https://code.jquery.com/jquery-3.5.1.slim.min.js\"></script> \n",
    "    <script src=\"https://cdn.jsdelivr.net/npm/@popperjs/core@2.5.4/dist/umd/popper.min.js\"></script> \n",
    "    <script src=\"https://stackpath.bootstrapcdn.com/bootstrap/4.5.2/js/bootstrap.min.js\"></script> \n",
    "    <script src=\"{{ url_for('static', filename='js/script.js') }}\"></script> \n",
    "</body> \n",
    "</html> "
   ]
  },
  {
   "cell_type": "markdown",
   "metadata": {},
   "source": [
    "- `static/css/styles.css`: File CSS untuk styling. "
   ]
  },
  {
   "cell_type": "markdown",
   "metadata": {},
   "source": [
    "Analisa code :\n",
    "\n",
    "Code ini mengatur tampilan dari elemen-elemen HTML pada halaman web. Ini termasuk warna latar belakang (background-color), warna teks (color), jenis font (font-family), dan bayangan kotak (box-shadow) untuk elemen tertentu seperti .card \n",
    " \n",
    "Code: "
   ]
  },
  {
   "cell_type": "code",
   "execution_count": null,
   "metadata": {
    "vscode": {
     "languageId": "css"
    }
   },
   "outputs": [],
   "source": [
    "body { \n",
    "    background-color: #f8f9fa; \n",
    "    font-family: Arial, sans-serif; \n",
    "}\n",
    "\n",
    "h1 {\n",
    "    color: #343a40;\n",
    "}\n",
    "\n",
    ".card {\n",
    "    background-color: #ffffff;\n",
    "    border: 1px solid #dee2e6;\n",
    "    box-shadow: 0 4px 8px rgba(0, 0, 0, 0.1); \n",
    "}\n",
    "\n",
    "#output {\n",
    "    background-color: #ffffff;\n",
    "    color: #212529;\n",
    "}"
   ]
  },
  {
   "cell_type": "markdown",
   "metadata": {},
   "source": [
    "- `static/js/script.js`: File JavaScript untuk logika aplikasi. "
   ]
  },
  {
   "cell_type": "markdown",
   "metadata": {},
   "source": [
    "Analisa code :\n",
    "\n",
    "1. Konsep Struktur Data dan Array:\n",
    "\n",
    "- Tipe Data: Variabel apName adalah string yang berisi nilai dari elemen dengan id ap_name. Objek data merupakan sebuah objek JavaScript yang digunakan untuk mengirim data melalui fetch request.\n",
    "\n",
    "- Struktur Data: Penggunaan objek data untuk menyimpan aksi (action) dan opsional nama titik akses (ap_name) jika aksi adalah 'show_cleartext'.\n",
    "\n",
    "Fungsi executeAction berfokus pada mengirim permintaan POST menggunakan fetch API dari JavaScript ke endpoint /execute di server. Ini memungkinkan aplikasi web untuk berinteraksi dengan backend (misalnya, aplikasi Flask) untuk melakukan operasi berdasarkan aksi yang diberikan (seperti memeriksa host Windows, menampilkan SSID, dan sebagainya). Hasil dari operasi yang dilakukan oleh backend kemudian ditampilkan di elemen dengan id output. "
   ]
  },
  {
   "cell_type": "code",
   "execution_count": null,
   "metadata": {
    "vscode": {
     "languageId": "javascript"
    }
   },
   "outputs": [],
   "source": [
    "function executeAction(action) { \n",
    "    let apName = document.getElementById('ap_name').value; \n",
    "    let data = { action: action }; \n",
    "\n",
    "    if (action === 'show_cleartext') { \n",
    "        data['ap_name'] = apName; \n",
    "    }\n",
    "\n",
    "    fetch('/execute', {\n",
    "        method: 'POST',\n",
    "        headers: {\n",
    "            'Content-Type': 'application/json', \n",
    "        },\n",
    "        body: JSON.stringify(data), \n",
    "    })\n",
    "    .then(response => response.json()) \n",
    "    .then(data => { \n",
    "        document.getElementById('output').innerText = data.result; \n",
    "    })\n",
    "    .catch((error) => { \n",
    "        console.error('Error:', error); \n",
    "    });\n",
    "} "
   ]
  },
  {
   "cell_type": "markdown",
   "metadata": {},
   "source": [
    "**Kesimpulan dari seluruh program *** \n",
    "\n",
    "Konsep Struktur Data dan Array:\n",
    "\n",
    "- Tipe Data: File-file seperti Alat_wifi.py dan app.py kemungkinan besar mengandung definisi dan penggunaan berbagai tipe data seperti string, integer, dan mungkin beberapa struktur data seperti dictionary atau list dalam Python.\n",
    "\n",
    "- Struktur Data: Berkaitan dengan cara data disimpan dan diorganisir di dalam file Python. Misalnya, penggunaan fungsi dan kelas untuk mengelola dan memanipulasi data"
   ]
  }
 ],
 "metadata": {
  "language_info": {
   "name": "python"
  }
 },
 "nbformat": 4,
 "nbformat_minor": 2
}
